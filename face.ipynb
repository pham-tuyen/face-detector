{
  "nbformat": 4,
  "nbformat_minor": 0,
  "metadata": {
    "colab": {
      "name": "face.ipynb",
      "provenance": [],
      "collapsed_sections": []
    },
    "kernelspec": {
      "display_name": "Python 3",
      "name": "python3"
    },
    "language_info": {
      "name": "python"
    }
  },
  "cells": [
    {
      "cell_type": "code",
      "metadata": {
        "colab": {
          "background_save": true,
          "base_uri": "https://localhost:8080/"
        },
        "id": "AFW-oHw35l28",
        "outputId": "1017e0d6-e4b1-4bdf-b5ab-2d9c8cb0c44e"
      },
      "source": [
        "!pip install face-detection\n",
        "import cv2\n",
        "import face_detection\n",
        "print('Nhập tên tệp ở trong thiết bị của bạn mà bạn muốn nhận dạng (phân biệt chữ thường chữ in hoa, nhập vào định dạng .jpg,.png, VD:face.jpg):')\n",
        "a=input()\n",
        "detector = face_detection.build_detector(\"DSFDDetector\", confidence_threshold=.5, nms_iou_threshold=.3) \n",
        "img = cv2.imread(a) \n",
        "detections = detector.detect(img) \n",
        "print(detections)\n",
        "color = (255, 0, 0)   \n",
        "thickness = 3\n",
        "for face in range(len(detections)):\n",
        "  pts1 = (detections[face][0],detections[face][1])\n",
        "  pts2 = (detections[face][2],detections[face][3])\n",
        "  image = cv2.rectangle(img, pts1, pts2, color, thickness) \n",
        "print('Chương trình đã nhận dạng xong. Yêu cầu nhập tên tệp để xuất hình ảnh đó ra (không trùng với tên tệp có sẵn, nhập vào định dạng .jpg,.png, VD:detect.jpg):')\n",
        "a=input();\n",
        "cv2.imwrite(a, image)"
      ],
      "execution_count": null,
      "outputs": [
        {
          "output_type": "stream",
          "text": [
            "Requirement already satisfied: face-detection in /usr/local/lib/python3.7/dist-packages (0.2.2)\n",
            "Requirement already satisfied: numpy in /usr/local/lib/python3.7/dist-packages (from face-detection) (1.19.5)\n",
            "Requirement already satisfied: torch>=1.6 in /usr/local/lib/python3.7/dist-packages (from face-detection) (1.9.0+cu102)\n",
            "Requirement already satisfied: torchvision>=0.3.0 in /usr/local/lib/python3.7/dist-packages (from face-detection) (0.10.0+cu102)\n",
            "Requirement already satisfied: typing-extensions in /usr/local/lib/python3.7/dist-packages (from torch>=1.6->face-detection) (3.7.4.3)\n",
            "Requirement already satisfied: pillow>=5.3.0 in /usr/local/lib/python3.7/dist-packages (from torchvision>=0.3.0->face-detection) (7.1.2)\n",
            "Nhập tên tệp ở trong thiết bị của bạn mà bạn muốn nhận dạng (phân biệt chữ thường chữ in hoa, nhập vào định dạng .jpg,.png, VD:face.jpg):\n",
            "[]\n",
            "Chương trình đã nhận dạng xong. Yêu cầu nhập tên tệp để xuất hình ảnh đó ra (không trùng với tên tệp có sẵn, nhập vào định dạng .jpg,.png, VD:detect.jpg):\n"
          ],
          "name": "stdout"
        }
      ]
    }
  ]
}